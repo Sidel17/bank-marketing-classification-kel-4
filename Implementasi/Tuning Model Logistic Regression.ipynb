{
 "cells": [
  {
   "cell_type": "code",
   "execution_count": 1,
   "metadata": {},
   "outputs": [],
   "source": [
    "import pyspark\n",
    "from pyspark.sql import SparkSession\n",
    "\n",
    "spark = SparkSession.builder \\\n",
    "    .master(\"local[2]\") \\\n",
    "    .appName(\"Load Data From HDFS\") \\\n",
    "    .getOrCreate()"
   ]
  },
  {
   "cell_type": "code",
   "execution_count": 2,
   "metadata": {},
   "outputs": [
    {
     "data": {
      "text/html": [
       "\n",
       "            <div>\n",
       "                <p><b>SparkSession - in-memory</b></p>\n",
       "                \n",
       "        <div>\n",
       "            <p><b>SparkContext</b></p>\n",
       "\n",
       "            <p><a href=\"http://DESKTOP-SSE3LD6:4041\">Spark UI</a></p>\n",
       "\n",
       "            <dl>\n",
       "              <dt>Version</dt>\n",
       "                <dd><code>v3.0.2</code></dd>\n",
       "              <dt>Master</dt>\n",
       "                <dd><code>local[2]</code></dd>\n",
       "              <dt>AppName</dt>\n",
       "                <dd><code>Load Data From HDFS</code></dd>\n",
       "            </dl>\n",
       "        </div>\n",
       "        \n",
       "            </div>\n",
       "        "
      ],
      "text/plain": [
       "<pyspark.sql.session.SparkSession at 0x1f36009b198>"
      ]
     },
     "execution_count": 2,
     "metadata": {},
     "output_type": "execute_result"
    }
   ],
   "source": [
    "spark"
   ]
  },
  {
   "cell_type": "code",
   "execution_count": 3,
   "metadata": {},
   "outputs": [
    {
     "name": "stdout",
     "output_type": "stream",
     "text": [
      "+---+---------+-------+-----------+-------+----+---------+-----+-----------+--------+--------+--------+-----------+---+\n",
      "|age|      job|marital|  education|housing|loan|  contact|month|day_of_week|duration|campaign|previous|   poutcome|  y|\n",
      "+---+---------+-------+-----------+-------+----+---------+-----+-----------+--------+--------+--------+-----------+---+\n",
      "| 56|housemaid|married|   basic.4y|     no|  no|telephone|  may|        mon|     261|       1|       0|nonexistent| no|\n",
      "| 57| services|married|high.school|     no|  no|telephone|  may|        mon|     149|       1|       0|nonexistent| no|\n",
      "| 37| services|married|high.school|    yes|  no|telephone|  may|        mon|     226|       1|       0|nonexistent| no|\n",
      "| 40|   admin.|married|   basic.6y|     no|  no|telephone|  may|        mon|     151|       1|       0|nonexistent| no|\n",
      "| 56| services|married|high.school|     no| yes|telephone|  may|        mon|     307|       1|       0|nonexistent| no|\n",
      "+---+---------+-------+-----------+-------+----+---------+-----+-----------+--------+--------+--------+-----------+---+\n",
      "only showing top 5 rows\n",
      "\n",
      "root\n",
      " |-- age: integer (nullable = true)\n",
      " |-- job: string (nullable = true)\n",
      " |-- marital: string (nullable = true)\n",
      " |-- education: string (nullable = true)\n",
      " |-- housing: string (nullable = true)\n",
      " |-- loan: string (nullable = true)\n",
      " |-- contact: string (nullable = true)\n",
      " |-- month: string (nullable = true)\n",
      " |-- day_of_week: string (nullable = true)\n",
      " |-- duration: integer (nullable = true)\n",
      " |-- campaign: integer (nullable = true)\n",
      " |-- previous: integer (nullable = true)\n",
      " |-- poutcome: string (nullable = true)\n",
      " |-- y: string (nullable = true)\n",
      "\n"
     ]
    }
   ],
   "source": [
    "# load hadoop format file parquet from hdfs\n",
    "\n",
    "#df = spark.read.parquet(\"hdfs://localhost:9820/proyek/bank-additional.parq\")\n",
    "bank_df = spark.read.parquet(\"bank-additional.parq\")\n",
    "bank_df.show(5)\n",
    "bank_df.printSchema()"
   ]
  },
  {
   "cell_type": "markdown",
   "metadata": {},
   "source": [
    "### Importing needful libraries"
   ]
  },
  {
   "cell_type": "code",
   "execution_count": 4,
   "metadata": {},
   "outputs": [],
   "source": [
    "from pyspark.sql import SparkSession\n",
    "from pyspark.ml import Pipeline\n",
    "from pyspark.sql.functions import mean, col, split, col, regexp_extract, when, lit\n",
    "from pyspark.ml.feature import StringIndexer, IndexToString, VectorAssembler, VectorIndexer\n",
    "from pyspark.ml.feature import QuantileDiscretizer, OneHotEncoder\n",
    "\n",
    "from pyspark.ml.evaluation import MulticlassClassificationEvaluator\n",
    "from pyspark.ml.evaluation import BinaryClassificationEvaluator\n",
    "\n",
    "from pyspark.ml.classification import LogisticRegression, DecisionTreeClassifier, RandomForestClassifier\n",
    "\n",
    "from pyspark.ml.tuning import ParamGridBuilder, CrossValidator"
   ]
  },
  {
   "cell_type": "code",
   "execution_count": 5,
   "metadata": {},
   "outputs": [
    {
     "name": "stdout",
     "output_type": "stream",
     "text": [
      "Number of customers is 41166\n"
     ]
    }
   ],
   "source": [
    "# Number of customers in the dataframe\n",
    "clients_count = bank_df.count()\n",
    "print(\"Number of customers is {}\".format(clients_count))"
   ]
  },
  {
   "cell_type": "code",
   "execution_count": 6,
   "metadata": {},
   "outputs": [
    {
     "name": "stdout",
     "output_type": "stream",
     "text": [
      "+---+-----+\n",
      "|  y|count|\n",
      "+---+-----+\n",
      "| no|36526|\n",
      "|yes| 4640|\n",
      "+---+-----+\n",
      "\n"
     ]
    }
   ],
   "source": [
    "# Number of customers which are subscribed vs. those not subscribed a term deposit\n",
    "groupBy_clients = bank_df.groupBy(\"y\").count()\n",
    "groupBy_clients.show()"
   ]
  },
  {
   "cell_type": "code",
   "execution_count": 7,
   "metadata": {},
   "outputs": [
    {
     "name": "stdout",
     "output_type": "stream",
     "text": [
      "+-------+------------------+-----------------+-----------------+-------------------+\n",
      "|summary|               age|         duration|         campaign|           previous|\n",
      "+-------+------------------+-----------------+-----------------+-------------------+\n",
      "|  count|             41166|            41166|            41166|              41166|\n",
      "|   mean| 40.02356313462566|258.3929456347471| 2.54875382597289|0.17305543409609872|\n",
      "| stddev|10.421897109457703|259.3029641183626|2.645304359228272|0.49501715074689073|\n",
      "|    min|                17|                0|                1|                  0|\n",
      "|    max|                98|             4918|               32|                  7|\n",
      "+-------+------------------+-----------------+-----------------+-------------------+\n",
      "\n"
     ]
    }
   ],
   "source": [
    "bank_df.describe([t[0] for t in bank_df.dtypes if t[1] == 'int']).show()"
   ]
  },
  {
   "cell_type": "markdown",
   "metadata": {},
   "source": [
    "### Preparing Data for Machine Learning"
   ]
  },
  {
   "cell_type": "code",
   "execution_count": 8,
   "metadata": {},
   "outputs": [],
   "source": [
    "def get_dummy(df, categoricalCols, continuousCols, labelCol):\n",
    "    indexers = [StringIndexer(inputCol=c, outputCol=\"{0}_indexed\".format(c)) for c in categoricalCols]\n",
    "    encoders = [OneHotEncoder(inputCol=indexer.getOutputCol(), outputCol=\"{0}_encoded\".format(indexer.getOutputCol())) for indexer in indexers]\n",
    "    \n",
    "    assembler = VectorAssembler(inputCols=[encoder.getOutputCol() for encoder in encoders] + continuousCols, outputCol=\"features\")\n",
    "    indexer = StringIndexer(inputCol=labelCol, outputCol='indexedLabel')\n",
    "    \n",
    "    pipeline = Pipeline(stages = indexers + encoders + [assembler] + [indexer])\n",
    "    model=pipeline.fit(df)\n",
    "    data = model.transform(df)\n",
    "    \n",
    "    data = data.withColumn('label', col(labelCol))\n",
    "    \n",
    "    return data.select('features', 'indexedLabel', 'label'), StringIndexer(inputCol='label').fit(data)"
   ]
  },
  {
   "cell_type": "code",
   "execution_count": 9,
   "metadata": {},
   "outputs": [
    {
     "name": "stdout",
     "output_type": "stream",
     "text": [
      "+--------------------+------------+-----+\n",
      "|            features|indexedLabel|label|\n",
      "+--------------------+------------+-----+\n",
      "|(42,[8,11,18,22,2...|         0.0|   no|\n",
      "|(42,[3,11,15,22,2...|         0.0|   no|\n",
      "|(42,[3,11,15,21,2...|         0.0|   no|\n",
      "|(42,[0,11,19,22,2...|         0.0|   no|\n",
      "|(42,[3,11,15,23,3...|         0.0|   no|\n",
      "+--------------------+------------+-----+\n",
      "only showing top 5 rows\n",
      "\n"
     ]
    }
   ],
   "source": [
    "# transform the data\n",
    "categoricalColumns = ['job', 'marital', 'education', 'housing', 'loan', 'month', 'day_of_week', 'poutcome']\n",
    "numericCols = ['age', 'duration', 'campaign', 'previous']\n",
    "(bank_df, labelindexer) = get_dummy(bank_df, categoricalColumns, numericCols, 'y')\n",
    "bank_df.show(5)"
   ]
  },
  {
   "cell_type": "code",
   "execution_count": 10,
   "metadata": {},
   "outputs": [
    {
     "name": "stdout",
     "output_type": "stream",
     "text": [
      "+--------------------+------------+-----+--------------------+\n",
      "|            features|indexedLabel|label|     indexedFeatures|\n",
      "+--------------------+------------+-----+--------------------+\n",
      "|(42,[8,11,18,22,2...|         0.0|   no|(42,[8,11,18,22,2...|\n",
      "|(42,[3,11,15,22,2...|         0.0|   no|(42,[3,11,15,22,2...|\n",
      "|(42,[3,11,15,21,2...|         0.0|   no|(42,[3,11,15,21,2...|\n",
      "|(42,[0,11,19,22,2...|         0.0|   no|(42,[0,11,19,22,2...|\n",
      "|(42,[3,11,15,23,3...|         0.0|   no|(42,[3,11,15,23,3...|\n",
      "+--------------------+------------+-----+--------------------+\n",
      "only showing top 5 rows\n",
      "\n"
     ]
    }
   ],
   "source": [
    "# fit the following featureIndexer model on the whole of the bank_df dataframe\n",
    "featureIndexer = VectorIndexer(inputCol=\"features\", outputCol=\"indexedFeatures\", maxCategories=4).fit(bank_df)\n",
    "\n",
    "featureIndexer.transform(bank_df).show(5)"
   ]
  },
  {
   "cell_type": "code",
   "execution_count": 11,
   "metadata": {},
   "outputs": [
    {
     "name": "stdout",
     "output_type": "stream",
     "text": [
      "+---------------------------------------------------------------------------------------+------------+-----+\n",
      "|features                                                                               |indexedLabel|label|\n",
      "+---------------------------------------------------------------------------------------+------------+-----+\n",
      "|(42,[8,11,18,22,23,33,36,38,39,40],[1.0,1.0,1.0,1.0,1.0,1.0,1.0,56.0,261.0,1.0])       |0.0         |no   |\n",
      "|(42,[3,11,15,22,23,33,36,38,39,40],[1.0,1.0,1.0,1.0,1.0,1.0,1.0,57.0,149.0,1.0])       |0.0         |no   |\n",
      "|(42,[3,11,15,21,22,23,33,36,38,39,40],[1.0,1.0,1.0,1.0,1.0,1.0,1.0,1.0,37.0,226.0,1.0])|0.0         |no   |\n",
      "|(42,[0,11,19,22,23,33,36,38,39,40],[1.0,1.0,1.0,1.0,1.0,1.0,1.0,40.0,151.0,1.0])       |0.0         |no   |\n",
      "|(42,[3,11,15,23,33,36,38,39,40],[1.0,1.0,1.0,1.0,1.0,1.0,56.0,307.0,1.0])              |0.0         |no   |\n",
      "+---------------------------------------------------------------------------------------+------------+-----+\n",
      "only showing top 5 rows\n",
      "\n"
     ]
    }
   ],
   "source": [
    "bank_df.show(5, False)"
   ]
  },
  {
   "cell_type": "markdown",
   "metadata": {},
   "source": [
    "### Data Splitting"
   ]
  },
  {
   "cell_type": "code",
   "execution_count": 12,
   "metadata": {},
   "outputs": [
    {
     "name": "stdout",
     "output_type": "stream",
     "text": [
      "Training Dataset Count: 28721\n",
      "Test Dataset Count: 12445\n"
     ]
    }
   ],
   "source": [
    "(trainingData, testData) = bank_df.randomSplit([0.7, 0.3], seed=10)\n",
    "print(\"Training Dataset Count: \" + str(trainingData.count()))\n",
    "print(\"Test Dataset Count: \" + str(testData.count()))"
   ]
  },
  {
   "cell_type": "code",
   "execution_count": 13,
   "metadata": {},
   "outputs": [
    {
     "name": "stdout",
     "output_type": "stream",
     "text": [
      "The first 5 samples of the Training Dataset:\n",
      "+---------------------------------------------------------------------------------------+------------+-----+\n",
      "|features                                                                               |indexedLabel|label|\n",
      "+---------------------------------------------------------------------------------------+------------+-----+\n",
      "|(42,[0,11,14,21,22,23,32,36,38,39,40],[1.0,1.0,1.0,1.0,1.0,1.0,1.0,1.0,25.0,251.0,4.0])|0.0         |no   |\n",
      "|(42,[0,11,14,21,22,23,32,36,38,39,40],[1.0,1.0,1.0,1.0,1.0,1.0,1.0,1.0,29.0,302.0,1.0])|0.0         |no   |\n",
      "|(42,[0,11,14,21,22,23,32,36,38,39,40],[1.0,1.0,1.0,1.0,1.0,1.0,1.0,1.0,30.0,911.0,2.0])|1.0         |yes  |\n",
      "|(42,[0,11,14,21,22,23,32,36,38,39,40],[1.0,1.0,1.0,1.0,1.0,1.0,1.0,1.0,31.0,102.0,4.0])|0.0         |no   |\n",
      "|(42,[0,11,14,21,22,23,32,36,38,39,40],[1.0,1.0,1.0,1.0,1.0,1.0,1.0,1.0,32.0,151.0,5.0])|0.0         |no   |\n",
      "+---------------------------------------------------------------------------------------+------------+-----+\n",
      "only showing top 5 rows\n",
      "\n",
      "The first 5 samples of the Test Dataset:\n",
      "+---------------------------------------------------------------------------------------+------------+-----+\n",
      "|features                                                                               |indexedLabel|label|\n",
      "+---------------------------------------------------------------------------------------+------------+-----+\n",
      "|(42,[0,11,14,21,22,23,32,36,38,39,40],[1.0,1.0,1.0,1.0,1.0,1.0,1.0,1.0,29.0,203.0,1.0])|0.0         |no   |\n",
      "|(42,[0,11,14,21,22,23,32,36,38,39,40],[1.0,1.0,1.0,1.0,1.0,1.0,1.0,1.0,30.0,196.0,2.0])|0.0         |no   |\n",
      "|(42,[0,11,14,21,22,23,32,36,38,39,40],[1.0,1.0,1.0,1.0,1.0,1.0,1.0,1.0,31.0,359.0,2.0])|0.0         |no   |\n",
      "|(42,[0,11,14,21,22,23,32,36,38,39,40],[1.0,1.0,1.0,1.0,1.0,1.0,1.0,1.0,32.0,70.0,1.0]) |0.0         |no   |\n",
      "|(42,[0,11,14,21,22,23,32,36,38,39,40],[1.0,1.0,1.0,1.0,1.0,1.0,1.0,1.0,32.0,71.0,2.0]) |0.0         |no   |\n",
      "+---------------------------------------------------------------------------------------+------------+-----+\n",
      "only showing top 5 rows\n",
      "\n"
     ]
    }
   ],
   "source": [
    "print(\"The first 5 samples of the Training Dataset:\")\n",
    "trainingData.show(5, False)\n",
    "print(\"The first 5 samples of the Test Dataset:\")\n",
    "testData.show(5, False)"
   ]
  },
  {
   "cell_type": "markdown",
   "metadata": {},
   "source": [
    "# Fit and Evaluate Models"
   ]
  },
  {
   "cell_type": "markdown",
   "metadata": {},
   "source": [
    "### Logistic Regression"
   ]
  },
  {
   "cell_type": "code",
   "execution_count": 14,
   "metadata": {},
   "outputs": [],
   "source": [
    "#lr = LogisticRegression(labelCol=\"indexedLabel\", featuresCol=\"indexedFeatures\") # using this line if you would using indexedFeatures instead features column\n",
    "lr = LogisticRegression(labelCol=\"indexedLabel\", featuresCol=\"features\")"
   ]
  },
  {
   "cell_type": "markdown",
   "metadata": {},
   "source": [
    "### Pipeline Architecture"
   ]
  },
  {
   "cell_type": "code",
   "execution_count": 15,
   "metadata": {},
   "outputs": [],
   "source": [
    "labelConverter = IndexToString(inputCol=\"prediction\", outputCol=\"predictedLabel\", labels=labelindexer.labels) \n",
    "\n",
    "pipeline = Pipeline(stages=[featureIndexer, lr, labelConverter])\n",
    "\n",
    "lrModel = pipeline.fit(trainingData)"
   ]
  },
  {
   "cell_type": "markdown",
   "metadata": {},
   "source": [
    "### Predictions"
   ]
  },
  {
   "cell_type": "code",
   "execution_count": 16,
   "metadata": {},
   "outputs": [
    {
     "name": "stdout",
     "output_type": "stream",
     "text": [
      "+--------------------+------------+-----+--------------------+--------------------+--------------------+----------+--------------+\n",
      "|            features|indexedLabel|label|     indexedFeatures|       rawPrediction|         probability|prediction|predictedLabel|\n",
      "+--------------------+------------+-----+--------------------+--------------------+--------------------+----------+--------------+\n",
      "|(42,[0,11,14,21,2...|         0.0|   no|(42,[0,11,14,21,2...|[3.35675443389378...|[0.96632532344417...|       0.0|            no|\n",
      "|(42,[0,11,14,21,2...|         0.0|   no|(42,[0,11,14,21,2...|[3.47213268200217...|[0.96988437379362...|       0.0|            no|\n",
      "|(42,[0,11,14,21,2...|         0.0|   no|(42,[0,11,14,21,2...|[2.77675761428123...|[0.94140685024800...|       0.0|            no|\n",
      "|(42,[0,11,14,21,2...|         0.0|   no|(42,[0,11,14,21,2...|[3.90803421628000...|[0.98031533176156...|       0.0|            no|\n",
      "|(42,[0,11,14,21,2...|         0.0|   no|(42,[0,11,14,21,2...|[3.99371317113042...|[0.98190241047567...|       0.0|            no|\n",
      "+--------------------+------------+-----+--------------------+--------------------+--------------------+----------+--------------+\n",
      "only showing top 5 rows\n",
      "\n"
     ]
    }
   ],
   "source": [
    "# Make predictions on the test data using the transform() method.\n",
    "predictions = lrModel.transform(testData)\n",
    "predictions.show(5)"
   ]
  },
  {
   "cell_type": "code",
   "execution_count": 17,
   "metadata": {},
   "outputs": [
    {
     "name": "stdout",
     "output_type": "stream",
     "text": [
      "+--------------------+-----+--------------------+--------------+\n",
      "|            features|label|         probability|predictedLabel|\n",
      "+--------------------+-----+--------------------+--------------+\n",
      "|(42,[0,11,14,21,2...|   no|[0.96632532344417...|            no|\n",
      "|(42,[0,11,14,21,2...|   no|[0.96988437379362...|            no|\n",
      "|(42,[0,11,14,21,2...|   no|[0.94140685024800...|            no|\n",
      "|(42,[0,11,14,21,2...|   no|[0.98031533176156...|            no|\n",
      "|(42,[0,11,14,21,2...|   no|[0.98190241047567...|            no|\n",
      "+--------------------+-----+--------------------+--------------+\n",
      "only showing top 5 rows\n",
      "\n"
     ]
    }
   ],
   "source": [
    "predictions.select(\"features\", \"label\", \"probability\", \"predictedLabel\").show(5)"
   ]
  },
  {
   "cell_type": "code",
   "execution_count": 33,
   "metadata": {},
   "outputs": [
    {
     "name": "stdout",
     "output_type": "stream",
     "text": [
      "+--------------------+\n",
      "|            features|\n",
      "+--------------------+\n",
      "|(42,[0,11,14,21,2...|\n",
      "|(42,[0,11,14,21,2...|\n",
      "|(42,[0,11,14,21,2...|\n",
      "|(42,[0,11,14,21,2...|\n",
      "|(42,[0,11,14,21,2...|\n",
      "+--------------------+\n",
      "only showing top 5 rows\n",
      "\n"
     ]
    }
   ],
   "source": [
    "predictions.select(\"features\").show(5)"
   ]
  },
  {
   "cell_type": "markdown",
   "metadata": {},
   "source": [
    "### Compute the model accuracy"
   ]
  },
  {
   "cell_type": "code",
   "execution_count": 18,
   "metadata": {},
   "outputs": [
    {
     "name": "stdout",
     "output_type": "stream",
     "text": [
      "+-----+------------+\n",
      "|label|count(label)|\n",
      "+-----+------------+\n",
      "|   no|       11049|\n",
      "|  yes|        1396|\n",
      "+-----+------------+\n",
      "\n",
      "+--------------+---------------------+\n",
      "|predictedLabel|count(predictedLabel)|\n",
      "+--------------+---------------------+\n",
      "|            no|                11713|\n",
      "|           yes|                  732|\n",
      "+--------------+---------------------+\n",
      "\n"
     ]
    }
   ],
   "source": [
    "cm = predictions.select(\"label\", \"predictedLabel\")          \n",
    "cm.groupby('label').agg({'label': 'count'}).show()  \n",
    "cm.groupby('predictedLabel').agg({'predictedLabel': 'count'}).show()"
   ]
  },
  {
   "cell_type": "code",
   "execution_count": 19,
   "metadata": {},
   "outputs": [
    {
     "name": "stdout",
     "output_type": "stream",
     "text": [
      "+-----+--------------+-----+\n",
      "|label|predictedLabel|count|\n",
      "+-----+--------------+-----+\n",
      "|   no|            no|10780|\n",
      "|   no|           yes|  269|\n",
      "|  yes|           yes|  463|\n",
      "|  yes|            no|  933|\n",
      "+-----+--------------+-----+\n",
      "\n"
     ]
    }
   ],
   "source": [
    "predictions.groupBy('label', 'predictedLabel').count().show()"
   ]
  },
  {
   "cell_type": "code",
   "execution_count": 20,
   "metadata": {},
   "outputs": [
    {
     "name": "stdout",
     "output_type": "stream",
     "text": [
      "The Accuracy for test set is 0.9034150261149055\n"
     ]
    }
   ],
   "source": [
    "print(\"The Accuracy for test set is {}\".format(cm.filter(cm.label == cm.predictedLabel).count()/cm.count()))"
   ]
  },
  {
   "cell_type": "code",
   "execution_count": 21,
   "metadata": {},
   "outputs": [
    {
     "name": "stdout",
     "output_type": "stream",
     "text": [
      "The Accuracy for test set is 0.9034150261149055\n"
     ]
    }
   ],
   "source": [
    "evaluator = MulticlassClassificationEvaluator(labelCol=\"indexedLabel\", predictionCol=\"prediction\", metricName=\"accuracy\")\n",
    "print(\"The Accuracy for test set is {}\".format(evaluator.evaluate(predictions)))"
   ]
  },
  {
   "cell_type": "markdown",
   "metadata": {},
   "source": [
    "# Tuning Model with ParamGridBuilder and CrossValidator"
   ]
  },
  {
   "cell_type": "markdown",
   "metadata": {},
   "source": [
    "## Hyperparameter tuning using 5-fold cross validation"
   ]
  },
  {
   "cell_type": "markdown",
   "metadata": {},
   "source": [
    "### Create ParamGrid for Cross Validation"
   ]
  },
  {
   "cell_type": "code",
   "execution_count": 22,
   "metadata": {},
   "outputs": [],
   "source": [
    "paramGrid = (ParamGridBuilder()\n",
    "             .addGrid(lr.regParam, [0.01, 0.5, 2.0])\n",
    "             .addGrid(lr.elasticNetParam, [0.0, 0.5, 1.0])\n",
    "             .addGrid(lr.maxIter, [1, 5, 10])\n",
    "             .build())\n",
    "\n",
    "evaluator = BinaryClassificationEvaluator(rawPredictionCol=\"prediction\",labelCol=\"indexedLabel\")"
   ]
  },
  {
   "cell_type": "markdown",
   "metadata": {},
   "source": [
    "### Create and run 5-fold Cross Validator"
   ]
  },
  {
   "cell_type": "code",
   "execution_count": 23,
   "metadata": {},
   "outputs": [],
   "source": [
    "pipeline = Pipeline(stages=[featureIndexer, lr, labelConverter]) \n",
    "cv = CrossValidator(estimator=pipeline, estimatorParamMaps=paramGrid, evaluator=evaluator, numFolds=5, parallelism=10, seed=100)\n",
    "cvModel = cv.fit(trainingData)"
   ]
  },
  {
   "cell_type": "code",
   "execution_count": 24,
   "metadata": {},
   "outputs": [
    {
     "name": "stdout",
     "output_type": "stream",
     "text": [
      "+--------------------+-----+--------------------+--------------+\n",
      "|            features|label|         probability|predictedLabel|\n",
      "+--------------------+-----+--------------------+--------------+\n",
      "|(42,[0,11,14,21,2...|   no|[0.92262365196450...|            no|\n",
      "|(42,[0,11,14,21,2...|   no|[0.92641703529117...|            no|\n",
      "|(42,[0,11,14,21,2...|   no|[0.89200993388020...|            no|\n",
      "|(42,[0,11,14,21,2...|   no|[0.94269523325370...|            no|\n",
      "|(42,[0,11,14,21,2...|   no|[0.94480545886916...|            no|\n",
      "+--------------------+-----+--------------------+--------------+\n",
      "only showing top 5 rows\n",
      "\n"
     ]
    }
   ],
   "source": [
    "predictions = cvModel.transform(testData)\n",
    "\n",
    "predictions.select(\"features\", \"label\", \"probability\", \"predictedLabel\").show(5)"
   ]
  },
  {
   "cell_type": "markdown",
   "metadata": {},
   "source": [
    "### Evaluate the best model"
   ]
  },
  {
   "cell_type": "code",
   "execution_count": 25,
   "metadata": {},
   "outputs": [
    {
     "name": "stdout",
     "output_type": "stream",
     "text": [
      "The Accuracy for test set is 0.8875050220972278\n"
     ]
    }
   ],
   "source": [
    "evaluator = MulticlassClassificationEvaluator(labelCol=\"indexedLabel\", predictionCol=\"prediction\", metricName=\"accuracy\")\n",
    "print(\"The Accuracy for test set is {}\".format(evaluator.evaluate(predictions)))"
   ]
  },
  {
   "cell_type": "code",
   "execution_count": 26,
   "metadata": {},
   "outputs": [
    {
     "name": "stdout",
     "output_type": "stream",
     "text": [
      "Summary Stats\n",
      "Confusion Matrix = \n",
      " DenseMatrix([[10529.,   520.],\n",
      "             [  880.,   516.]])\n",
      "Precision = 0.4980694980694981\n",
      "Recall = 0.36962750716332377\n",
      "Area under PR = 0.3764404070012357\n",
      "Area under ROC = 0.6612822122657056\n"
     ]
    }
   ],
   "source": [
    "from pyspark.mllib.evaluation import BinaryClassificationMetrics\n",
    "from pyspark.mllib.evaluation import MulticlassMetrics\n",
    "\n",
    "predictionAndLabel = predictions.select(\"prediction\", \"indexedLabel\").rdd\n",
    "\n",
    "# Instantiate metrics object \n",
    "metricsMulti = MulticlassMetrics(predictionAndLabel)\n",
    "metricsBinary= BinaryClassificationMetrics(predictionAndLabel)\n",
    "# Overall statistics \n",
    "confusionMatrix = metricsMulti.confusionMatrix()\n",
    "precision = metricsMulti.precision(label=1) \n",
    "recall = metricsMulti.recall(label=1) \n",
    "\n",
    "print(\"Summary Stats\")\n",
    "print(\"Confusion Matrix = \\n %s\" % confusionMatrix)\n",
    "print(\"Precision = %s\" % precision) \n",
    "print(\"Recall = %s\" % recall)  \n",
    "\n",
    "# Area under precision-recall curve \n",
    "print(\"Area under PR = %s\" % metricsBinary.areaUnderPR) \n",
    "# Area under ROC curve \n",
    "print(\"Area under ROC = %s\" % metricsBinary.areaUnderROC)"
   ]
  },
  {
   "cell_type": "code",
   "execution_count": 27,
   "metadata": {},
   "outputs": [
    {
     "name": "stdout",
     "output_type": "stream",
     "text": [
      "The area under ROC for test set is 0.6612822122657056\n"
     ]
    }
   ],
   "source": [
    "evaluator = BinaryClassificationEvaluator(rawPredictionCol=\"prediction\",labelCol=\"indexedLabel\")\n",
    "print(\"The area under ROC for test set is {}\".format(evaluator.evaluate(predictions)))"
   ]
  },
  {
   "cell_type": "markdown",
   "metadata": {},
   "source": [
    "### Plot Confusion Matrix"
   ]
  },
  {
   "cell_type": "code",
   "execution_count": 28,
   "metadata": {},
   "outputs": [],
   "source": [
    "import matplotlib.pyplot as plt\n",
    "import numpy as np\n",
    "import itertools\n",
    "\n",
    "def plot_confusion_matrix(cm, classes, normalize=False, title='Confusion matrix', cmap=plt.cm.Blues):\n",
    "\n",
    "    if normalize:\n",
    "        cm = cm.astype('float') / cm.sum(axis=1)[:, np.newaxis]\n",
    "        print(\"Normalized confusion matrix\")\n",
    "    else:\n",
    "        print('Confusion matrix, without normalization')\n",
    "    \n",
    "    print(cm)\n",
    "    \n",
    "    plt.imshow(cm, interpolation='nearest', cmap=cmap)\n",
    "    plt.title(title)\n",
    "    plt.colorbar()\n",
    "    tick_marks = np.arange(len(classes))\n",
    "    plt.xticks(tick_marks, classes, rotation=45)\n",
    "    plt.yticks(tick_marks, classes)\n",
    "    \n",
    "    fmt = '.2f' if normalize else 'd'\n",
    "    thresh = cm.max() / 2.\n",
    "    for i, j in itertools.product(range(cm.shape[0]), range(cm.shape[1])):\n",
    "        plt.text(j, i, format(cm[i, j], fmt), horizontalalignment=\"center\", color=\"white\" if cm[i, j] > thresh else \"black\")\n",
    "    \n",
    "    plt.tight_layout()\n",
    "    plt.ylabel('True label')\n",
    "    plt.xlabel('Predicted label')"
   ]
  },
  {
   "cell_type": "code",
   "execution_count": 29,
   "metadata": {},
   "outputs": [
    {
     "name": "stdout",
     "output_type": "stream",
     "text": [
      "['no', 'yes']\n"
     ]
    }
   ],
   "source": [
    "class_temp = predictions.select(\"label\").groupBy(\"label\").count().sort('count', ascending=False).toPandas()\n",
    "class_temp = class_temp[\"label\"].values.tolist()\n",
    "print(class_temp)"
   ]
  },
  {
   "cell_type": "code",
   "execution_count": 30,
   "metadata": {},
   "outputs": [
    {
     "data": {
      "text/plain": [
       "array([[10529,   520],\n",
       "       [  880,   516]], dtype=int64)"
      ]
     },
     "execution_count": 30,
     "metadata": {},
     "output_type": "execute_result"
    }
   ],
   "source": [
    "from sklearn.metrics import confusion_matrix\n",
    "y_true = predictions.select(\"label\")\n",
    "y_true = y_true.toPandas()\n",
    "\n",
    "y_pred = predictions.select(\"predictedLabel\")\n",
    "y_pred = y_pred.toPandas()\n",
    "\n",
    "cnf_matrix = confusion_matrix(y_true, y_pred,labels=class_temp)\n",
    "cnf_matrix\n"
   ]
  },
  {
   "cell_type": "code",
   "execution_count": 31,
   "metadata": {},
   "outputs": [
    {
     "name": "stdout",
     "output_type": "stream",
     "text": [
      "Confusion matrix, without normalization\n",
      "[[10529   520]\n",
      " [  880   516]]\n"
     ]
    },
    {
     "data": {
      "image/png": "[encoded data removed]",
      "text/plain": [
       "<Figure size 432x288 with 2 Axes>"
      ]
     },
     "metadata": {},
     "output_type": "display_data"
    }
   ],
   "source": [
    "# Plot non-normalized confusion matrix\n",
    "plt.figure()\n",
    "plot_confusion_matrix(cnf_matrix, classes=class_temp, title='Confusion matrix, without normalization')\n",
    "plt.show()\n"
   ]
  },
  {
   "cell_type": "code",
   "execution_count": 32,
   "metadata": {},
   "outputs": [
    {
     "name": "stdout",
     "output_type": "stream",
     "text": [
      "Normalized confusion matrix\n",
      "[[0.95293692 0.04706308]\n",
      " [0.63037249 0.36962751]]\n"
     ]
    },
    {
     "data": {
      "image/png": "[encoded data removed]",
      "text/plain": [
       "<Figure size 432x288 with 2 Axes>"
      ]
     },
     "metadata": {},
     "output_type": "display_data"
    }
   ],
   "source": [
    "# Plot normalized confusion matrix\n",
    "plt.figure()\n",
    "plot_confusion_matrix(cnf_matrix, classes=class_temp, normalize=True, title='Normalized confusion matrix')\n",
    "plt.show()"
   ]
  },
  {
   "cell_type": "code",
   "execution_count": null,
   "metadata": {},
   "outputs": [],
   "source": []
  }
 ],
 "metadata": {
  "kernelspec": {
   "display_name": "Python 3",
   "language": "python",
   "name": "python3"
  },
  "language_info": {
   "codemirror_mode": {
    "name": "ipython",
    "version": 3
   },
   "file_extension": ".py",
   "mimetype": "text/x-python",
   "name": "python",
   "nbconvert_exporter": "python",
   "pygments_lexer": "ipython3",
   "version": "3.6.5"
  }
 },
 "nbformat": 4,
 "nbformat_minor": 2
}
