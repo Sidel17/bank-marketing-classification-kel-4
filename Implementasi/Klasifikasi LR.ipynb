{
 "cells": [
  {
   "cell_type": "code",
   "execution_count": 1,
   "metadata": {},
   "outputs": [],
   "source": [
    "import pyspark\n",
    "from pyspark.sql import SparkSession\n",
    "\n",
    "spark = SparkSession.builder \\\n",
    "    .master(\"local[2]\") \\\n",
    "    .appName(\"Load Data From HDFS\") \\\n",
    "    .getOrCreate()"
   ]
  },
  {
   "cell_type": "code",
   "execution_count": 2,
   "metadata": {},
   "outputs": [
    {
     "data": {
      "text/html": [
       "\n",
       "            <div>\n",
       "                <p><b>SparkSession - hive</b></p>\n",
       "                \n",
       "        <div>\n",
       "            <p><b>SparkContext</b></p>\n",
       "\n",
       "            <p><a href=\"http://DESKTOP-EICB9IN:4042\">Spark UI</a></p>\n",
       "\n",
       "            <dl>\n",
       "              <dt>Version</dt>\n",
       "                <dd><code>v3.0.2</code></dd>\n",
       "              <dt>Master</dt>\n",
       "                <dd><code>local[*]</code></dd>\n",
       "              <dt>AppName</dt>\n",
       "                <dd><code>PySparkShell</code></dd>\n",
       "            </dl>\n",
       "        </div>\n",
       "        \n",
       "            </div>\n",
       "        "
      ],
      "text/plain": [
       "<pyspark.sql.session.SparkSession at 0x2b0178e6c18>"
      ]
     },
     "execution_count": 2,
     "metadata": {},
     "output_type": "execute_result"
    }
   ],
   "source": [
    "spark"
   ]
  },
  {
   "cell_type": "code",
   "execution_count": 3,
   "metadata": {},
   "outputs": [
    {
     "name": "stdout",
     "output_type": "stream",
     "text": [
      "+---+---------+-------+-----------+-------+----+---------+-----+-----------+--------+--------+--------+-----------+------------+--------------+-------------+---------+-----------+---+\n",
      "|age|      job|marital|  education|housing|loan|  contact|month|day_of_week|duration|campaign|previous|   poutcome|emp_var_rate|cons_price_idx|cons_conf_idx|euribor3m|nr_employed|  y|\n",
      "+---+---------+-------+-----------+-------+----+---------+-----+-----------+--------+--------+--------+-----------+------------+--------------+-------------+---------+-----------+---+\n",
      "| 56|housemaid|married|   basic.4y|     no|  no|telephone|  may|        mon|     261|       1|       0|nonexistent|         1.1|        93.994|        -36.4|    4.857|     5191.0| no|\n",
      "| 57| services|married|high.school|     no|  no|telephone|  may|        mon|     149|       1|       0|nonexistent|         1.1|        93.994|        -36.4|    4.857|     5191.0| no|\n",
      "| 37| services|married|high.school|    yes|  no|telephone|  may|        mon|     226|       1|       0|nonexistent|         1.1|        93.994|        -36.4|    4.857|     5191.0| no|\n",
      "| 40|   admin.|married|   basic.6y|     no|  no|telephone|  may|        mon|     151|       1|       0|nonexistent|         1.1|        93.994|        -36.4|    4.857|     5191.0| no|\n",
      "| 56| services|married|high.school|     no| yes|telephone|  may|        mon|     307|       1|       0|nonexistent|         1.1|        93.994|        -36.4|    4.857|     5191.0| no|\n",
      "+---+---------+-------+-----------+-------+----+---------+-----+-----------+--------+--------+--------+-----------+------------+--------------+-------------+---------+-----------+---+\n",
      "only showing top 5 rows\n",
      "\n",
      "root\n",
      " |-- age: integer (nullable = true)\n",
      " |-- job: string (nullable = true)\n",
      " |-- marital: string (nullable = true)\n",
      " |-- education: string (nullable = true)\n",
      " |-- housing: string (nullable = true)\n",
      " |-- loan: string (nullable = true)\n",
      " |-- contact: string (nullable = true)\n",
      " |-- month: string (nullable = true)\n",
      " |-- day_of_week: string (nullable = true)\n",
      " |-- duration: integer (nullable = true)\n",
      " |-- campaign: integer (nullable = true)\n",
      " |-- previous: integer (nullable = true)\n",
      " |-- poutcome: string (nullable = true)\n",
      " |-- emp_var_rate: float (nullable = true)\n",
      " |-- cons_price_idx: float (nullable = true)\n",
      " |-- cons_conf_idx: float (nullable = true)\n",
      " |-- euribor3m: float (nullable = true)\n",
      " |-- nr_employed: float (nullable = true)\n",
      " |-- y: string (nullable = true)\n",
      "\n"
     ]
    }
   ],
   "source": [
    "# load hadoop format file parquet from hdfs\n",
    "\n",
    "#df = spark.read.parquet(\"hdfs://localhost:9820/proyek/bank-additional.parq\")\n",
    "bank_df = spark.read.parquet(\"bank-additional.parq\")\n",
    "bank_df.show(5)\n",
    "bank_df.printSchema()"
   ]
  },
  {
   "cell_type": "markdown",
   "metadata": {},
   "source": [
    "### Importing needful libraries"
   ]
  },
  {
   "cell_type": "code",
   "execution_count": 4,
   "metadata": {},
   "outputs": [],
   "source": [
    "from pyspark.sql import SparkSession\n",
    "from pyspark.ml import Pipeline\n",
    "from pyspark.sql.functions import mean, col, split, col, regexp_extract, when, lit\n",
    "from pyspark.ml.feature import StringIndexer, IndexToString, VectorAssembler, VectorIndexer\n",
    "from pyspark.ml.feature import QuantileDiscretizer, OneHotEncoder\n",
    "\n",
    "from pyspark.ml.evaluation import MulticlassClassificationEvaluator\n",
    "from pyspark.ml.evaluation import BinaryClassificationEvaluator\n",
    "\n",
    "from pyspark.ml.classification import LogisticRegression, DecisionTreeClassifier, RandomForestClassifier\n",
    "\n",
    "from pyspark.ml.tuning import ParamGridBuilder, CrossValidator"
   ]
  },
  {
   "cell_type": "code",
   "execution_count": 5,
   "metadata": {},
   "outputs": [
    {
     "name": "stdout",
     "output_type": "stream",
     "text": [
      "Number of customers is 41166\n"
     ]
    }
   ],
   "source": [
    "# Number of customers in the dataframe\n",
    "clients_count = bank_df.count()\n",
    "print(\"Number of customers is {}\".format(clients_count))"
   ]
  },
  {
   "cell_type": "code",
   "execution_count": 6,
   "metadata": {},
   "outputs": [
    {
     "name": "stdout",
     "output_type": "stream",
     "text": [
      "+---+-----+\n",
      "|  y|count|\n",
      "+---+-----+\n",
      "| no|36526|\n",
      "|yes| 4640|\n",
      "+---+-----+\n",
      "\n"
     ]
    }
   ],
   "source": [
    "# Number of customers which are subscribed vs. those not subscribed a term deposit\n",
    "groupBy_clients = bank_df.groupBy(\"y\").count()\n",
    "groupBy_clients.show()"
   ]
  },
  {
   "cell_type": "code",
   "execution_count": 7,
   "metadata": {},
   "outputs": [
    {
     "name": "stdout",
     "output_type": "stream",
     "text": [
      "+-------+------------------+------------------+------------------+-------------------+\n",
      "|summary|               age|          duration|          campaign|           previous|\n",
      "+-------+------------------+------------------+------------------+-------------------+\n",
      "|  count|             41166|             41166|             41166|              41166|\n",
      "|   mean| 40.02356313462566| 258.3929456347471|  2.54875382597289|0.17305543409609872|\n",
      "| stddev|10.421897109457673|259.30296411836315|2.6453043592282746| 0.4950171507468902|\n",
      "|    min|                17|                 0|                 1|                  0|\n",
      "|    max|                98|              4918|                32|                  7|\n",
      "+-------+------------------+------------------+------------------+-------------------+\n",
      "\n"
     ]
    }
   ],
   "source": [
    "bank_df.describe([t[0] for t in bank_df.dtypes if t[1] == 'int']).show()"
   ]
  },
  {
   "cell_type": "markdown",
   "metadata": {},
   "source": [
    "### Preparing Data for Machine Learning"
   ]
  },
  {
   "cell_type": "code",
   "execution_count": 8,
   "metadata": {},
   "outputs": [],
   "source": [
    "def get_dummy(df, categoricalCols, continuousCols, labelCol):\n",
    "    indexers = [StringIndexer(inputCol=c, outputCol=\"{0}_indexed\".format(c)) for c in categoricalCols]\n",
    "    encoders = [OneHotEncoder(inputCol=indexer.getOutputCol(), outputCol=\"{0}_encoded\".format(indexer.getOutputCol())) for indexer in indexers]\n",
    "    \n",
    "    assembler = VectorAssembler(inputCols=[encoder.getOutputCol() for encoder in encoders] + continuousCols, outputCol=\"features\")\n",
    "    indexer = StringIndexer(inputCol=labelCol, outputCol='indexedLabel')\n",
    "    \n",
    "    pipeline = Pipeline(stages = indexers + encoders + [assembler] + [indexer])\n",
    "    model=pipeline.fit(df)\n",
    "    data = model.transform(df)\n",
    "    \n",
    "    data = data.withColumn('label', col(labelCol))\n",
    "    \n",
    "    return data.select('age', 'job', 'marital', 'education', 'housing', 'loan', 'contact', 'month', 'day_of_week', 'duration', 'campaign', 'previous', 'poutcome', 'emp_var_rate', 'cons_price_idx', 'cons_conf_idx', 'euribor3m', 'nr_employed', 'features', 'indexedLabel', 'label'), StringIndexer(inputCol='label').fit(data)"
   ]
  },
  {
   "cell_type": "code",
   "execution_count": 9,
   "metadata": {},
   "outputs": [
    {
     "name": "stdout",
     "output_type": "stream",
     "text": [
      "+---+---------+-------+-----------+-------+----+---------+-----+-----------+--------+--------+--------+-----------+------------+--------------+-------------+---------+-----------+--------------------+------------+-----+\n",
      "|age|      job|marital|  education|housing|loan|  contact|month|day_of_week|duration|campaign|previous|   poutcome|emp_var_rate|cons_price_idx|cons_conf_idx|euribor3m|nr_employed|            features|indexedLabel|label|\n",
      "+---+---------+-------+-----------+-------+----+---------+-----+-----------+--------+--------+--------+-----------+------------+--------------+-------------+---------+-----------+--------------------+------------+-----+\n",
      "| 56|housemaid|married|   basic.4y|     no|  no|telephone|  may|        mon|     261|       1|       0|nonexistent|         1.1|        93.994|        -36.4|    4.857|     5191.0|(48,[8,11,18,22,2...|         0.0|   no|\n",
      "| 57| services|married|high.school|     no|  no|telephone|  may|        mon|     149|       1|       0|nonexistent|         1.1|        93.994|        -36.4|    4.857|     5191.0|(48,[3,11,15,22,2...|         0.0|   no|\n",
      "| 37| services|married|high.school|    yes|  no|telephone|  may|        mon|     226|       1|       0|nonexistent|         1.1|        93.994|        -36.4|    4.857|     5191.0|(48,[3,11,15,21,2...|         0.0|   no|\n",
      "| 40|   admin.|married|   basic.6y|     no|  no|telephone|  may|        mon|     151|       1|       0|nonexistent|         1.1|        93.994|        -36.4|    4.857|     5191.0|(48,[0,11,19,22,2...|         0.0|   no|\n",
      "| 56| services|married|high.school|     no| yes|telephone|  may|        mon|     307|       1|       0|nonexistent|         1.1|        93.994|        -36.4|    4.857|     5191.0|(48,[3,11,15,24,3...|         0.0|   no|\n",
      "+---+---------+-------+-----------+-------+----+---------+-----+-----------+--------+--------+--------+-----------+------------+--------------+-------------+---------+-----------+--------------------+------------+-----+\n",
      "only showing top 5 rows\n",
      "\n"
     ]
    }
   ],
   "source": [
    "# transform the data\n",
    "categoricalColumns = ['job', 'marital', 'education', 'housing', 'loan', 'contact', 'month', 'day_of_week', 'poutcome']\n",
    "numericCols = ['age', 'duration', 'campaign', 'previous', 'emp_var_rate', 'cons_price_idx', 'cons_conf_idx', 'euribor3m', 'nr_employed']\n",
    "(bank_df, labelindexer) = get_dummy(bank_df, categoricalColumns, numericCols, 'y')\n",
    "bank_df.show(5)"
   ]
  },
  {
   "cell_type": "code",
   "execution_count": 10,
   "metadata": {},
   "outputs": [
    {
     "name": "stdout",
     "output_type": "stream",
     "text": [
      "+---+---------+-------+-----------+-------+----+---------+-----+-----------+--------+--------+--------+-----------+------------+--------------+-------------+---------+-----------+--------------------+------------+-----+--------------------+\n",
      "|age|      job|marital|  education|housing|loan|  contact|month|day_of_week|duration|campaign|previous|   poutcome|emp_var_rate|cons_price_idx|cons_conf_idx|euribor3m|nr_employed|            features|indexedLabel|label|     indexedFeatures|\n",
      "+---+---------+-------+-----------+-------+----+---------+-----+-----------+--------+--------+--------+-----------+------------+--------------+-------------+---------+-----------+--------------------+------------+-----+--------------------+\n",
      "| 56|housemaid|married|   basic.4y|     no|  no|telephone|  may|        mon|     261|       1|       0|nonexistent|         1.1|        93.994|        -36.4|    4.857|     5191.0|(48,[8,11,18,22,2...|         0.0|   no|(48,[8,11,18,22,2...|\n",
      "| 57| services|married|high.school|     no|  no|telephone|  may|        mon|     149|       1|       0|nonexistent|         1.1|        93.994|        -36.4|    4.857|     5191.0|(48,[3,11,15,22,2...|         0.0|   no|(48,[3,11,15,22,2...|\n",
      "| 37| services|married|high.school|    yes|  no|telephone|  may|        mon|     226|       1|       0|nonexistent|         1.1|        93.994|        -36.4|    4.857|     5191.0|(48,[3,11,15,21,2...|         0.0|   no|(48,[3,11,15,21,2...|\n",
      "| 40|   admin.|married|   basic.6y|     no|  no|telephone|  may|        mon|     151|       1|       0|nonexistent|         1.1|        93.994|        -36.4|    4.857|     5191.0|(48,[0,11,19,22,2...|         0.0|   no|(48,[0,11,19,22,2...|\n",
      "| 56| services|married|high.school|     no| yes|telephone|  may|        mon|     307|       1|       0|nonexistent|         1.1|        93.994|        -36.4|    4.857|     5191.0|(48,[3,11,15,24,3...|         0.0|   no|(48,[3,11,15,24,3...|\n",
      "+---+---------+-------+-----------+-------+----+---------+-----+-----------+--------+--------+--------+-----------+------------+--------------+-------------+---------+-----------+--------------------+------------+-----+--------------------+\n",
      "only showing top 5 rows\n",
      "\n"
     ]
    }
   ],
   "source": [
    "# fit the following featureIndexer model on the whole of the bank_df dataframe\n",
    "featureIndexer = VectorIndexer(inputCol=\"features\", outputCol=\"indexedFeatures\", maxCategories=4).fit(bank_df)\n",
    "\n",
    "featureIndexer.transform(bank_df).show(5)"
   ]
  },
  {
   "cell_type": "code",
   "execution_count": 11,
   "metadata": {},
   "outputs": [
    {
     "name": "stdout",
     "output_type": "stream",
     "text": [
      "+---+---------+-------+-----------+-------+----+---------+-----+-----------+--------+--------+--------+-----------+------------+--------------+-------------+---------+-----------+--------------------------------------------------------------------------------------------------------------------------------------------------------------------------------------+------------+-----+\n",
      "|age|job      |marital|education  |housing|loan|contact  |month|day_of_week|duration|campaign|previous|poutcome   |emp_var_rate|cons_price_idx|cons_conf_idx|euribor3m|nr_employed|features                                                                                                                                                                              |indexedLabel|label|\n",
      "+---+---------+-------+-----------+-------+----+---------+-----+-----------+--------+--------+--------+-----------+------------+--------------+-------------+---------+-----------+--------------------------------------------------------------------------------------------------------------------------------------------------------------------------------------+------------+-----+\n",
      "|56 |housemaid|married|basic.4y   |no     |no  |telephone|may  |mon        |261     |1       |0       |nonexistent|1.1         |93.994        |-36.4        |4.857    |5191.0     |(48,[8,11,18,22,24,34,37,39,40,41,43,44,45,46,47],[1.0,1.0,1.0,1.0,1.0,1.0,1.0,56.0,261.0,1.0,1.100000023841858,93.99400329589844,-36.400001525878906,4.85699987411499,5191.0])       |0.0         |no   |\n",
      "|57 |services |married|high.school|no     |no  |telephone|may  |mon        |149     |1       |0       |nonexistent|1.1         |93.994        |-36.4        |4.857    |5191.0     |(48,[3,11,15,22,24,34,37,39,40,41,43,44,45,46,47],[1.0,1.0,1.0,1.0,1.0,1.0,1.0,57.0,149.0,1.0,1.100000023841858,93.99400329589844,-36.400001525878906,4.85699987411499,5191.0])       |0.0         |no   |\n",
      "|37 |services |married|high.school|yes    |no  |telephone|may  |mon        |226     |1       |0       |nonexistent|1.1         |93.994        |-36.4        |4.857    |5191.0     |(48,[3,11,15,21,22,24,34,37,39,40,41,43,44,45,46,47],[1.0,1.0,1.0,1.0,1.0,1.0,1.0,1.0,37.0,226.0,1.0,1.100000023841858,93.99400329589844,-36.400001525878906,4.85699987411499,5191.0])|0.0         |no   |\n",
      "|40 |admin.   |married|basic.6y   |no     |no  |telephone|may  |mon        |151     |1       |0       |nonexistent|1.1         |93.994        |-36.4        |4.857    |5191.0     |(48,[0,11,19,22,24,34,37,39,40,41,43,44,45,46,47],[1.0,1.0,1.0,1.0,1.0,1.0,1.0,40.0,151.0,1.0,1.100000023841858,93.99400329589844,-36.400001525878906,4.85699987411499,5191.0])       |0.0         |no   |\n",
      "|56 |services |married|high.school|no     |yes |telephone|may  |mon        |307     |1       |0       |nonexistent|1.1         |93.994        |-36.4        |4.857    |5191.0     |(48,[3,11,15,24,34,37,39,40,41,43,44,45,46,47],[1.0,1.0,1.0,1.0,1.0,1.0,56.0,307.0,1.0,1.100000023841858,93.99400329589844,-36.400001525878906,4.85699987411499,5191.0])              |0.0         |no   |\n",
      "+---+---------+-------+-----------+-------+----+---------+-----+-----------+--------+--------+--------+-----------+------------+--------------+-------------+---------+-----------+--------------------------------------------------------------------------------------------------------------------------------------------------------------------------------------+------------+-----+\n",
      "only showing top 5 rows\n",
      "\n"
     ]
    }
   ],
   "source": [
    "bank_df.show(5, False)"
   ]
  },
  {
   "cell_type": "markdown",
   "metadata": {},
   "source": [
    "### Data Splitting"
   ]
  },
  {
   "cell_type": "code",
   "execution_count": 12,
   "metadata": {},
   "outputs": [
    {
     "name": "stdout",
     "output_type": "stream",
     "text": [
      "Training Dataset Count: 28758\n",
      "Test Dataset Count: 12408\n"
     ]
    }
   ],
   "source": [
    "# split dataset to trainingData and testData\n",
    "\n",
    "(trainingData, testData) = bank_df.randomSplit([0.7, 0.3], seed=10)\n",
    "print(\"Training Dataset Count: \" + str(trainingData.count()))\n",
    "print(\"Test Dataset Count: \" + str(testData.count()))"
   ]
  },
  {
   "cell_type": "code",
   "execution_count": 13,
   "metadata": {},
   "outputs": [
    {
     "name": "stdout",
     "output_type": "stream",
     "text": [
      "The first 5 samples of the Training Dataset:\n",
      "+---+-------+-------+-----------+-------+----+---------+-----+-----------+--------+--------+--------+-----------+------------+--------------+-------------+---------+-----------+-------------------------------------------------------------------------------------------------------------------------------------------------------------------------------------------------------+------------+-----+\n",
      "|age|job    |marital|education  |housing|loan|contact  |month|day_of_week|duration|campaign|previous|poutcome   |emp_var_rate|cons_price_idx|cons_conf_idx|euribor3m|nr_employed|features                                                                                                                                                                                               |indexedLabel|label|\n",
      "+---+-------+-------+-----------+-------+----+---------+-----+-----------+--------+--------+--------+-----------+------------+--------------+-------------+---------+-----------+-------------------------------------------------------------------------------------------------------------------------------------------------------------------------------------------------------+------------+-----+\n",
      "|18 |student|single |basic.4y   |no     |no  |cellular |apr  |thu        |108     |1       |0       |nonexistent|-1.8        |93.075        |-47.1        |1.365    |5099.1     |(48,[10,12,18,22,23,29,33,37,39,40,41,43,44,45,46,47],[1.0,1.0,1.0,1.0,1.0,1.0,1.0,1.0,18.0,108.0,1.0,-1.7999999523162842,93.07499694824219,-47.099998474121094,1.3650000095367432,5099.10009765625])  |0.0         |no   |\n",
      "|18 |student|single |high.school|no     |no  |telephone|nov  |thu        |75      |1       |0       |nonexistent|-0.1        |93.2          |-42.0        |4.245    |5195.8     |(48,[10,12,15,22,28,33,37,39,40,41,43,44,45,46,47],[1.0,1.0,1.0,1.0,1.0,1.0,1.0,18.0,75.0,1.0,-0.10000000149011612,93.19999694824219,-42.0,4.244999885559082,5195.7998046875])                         |0.0         |no   |\n",
      "|19 |student|single |basic.4y   |no     |yes |cellular |apr  |wed        |371     |2       |0       |nonexistent|-1.8        |93.075        |-47.1        |1.405    |5099.1     |(48,[10,12,18,23,29,35,37,39,40,41,43,44,45,46,47],[1.0,1.0,1.0,1.0,1.0,1.0,1.0,19.0,371.0,2.0,-1.7999999523162842,93.07499694824219,-47.099998474121094,1.4049999713897705,5099.10009765625])         |1.0         |yes  |\n",
      "|19 |student|single |basic.6y   |no     |no  |cellular |mar  |tue        |136     |1       |0       |nonexistent|-1.8        |92.843        |-50.0        |1.556    |5099.1     |(48,[10,12,19,22,23,32,36,37,39,40,41,43,44,45,46,47],[1.0,1.0,1.0,1.0,1.0,1.0,1.0,1.0,19.0,136.0,1.0,-1.7999999523162842,92.84300231933594,-50.0,1.555999994277954,5099.10009765625])                 |1.0         |yes  |\n",
      "|19 |student|single |basic.9y   |yes    |no  |cellular |jul  |mon        |87      |4       |0       |nonexistent|1.4         |93.918        |-42.7        |4.96     |5228.1     |(48,[10,12,16,21,22,23,25,34,37,39,40,41,43,44,45,46,47],[1.0,1.0,1.0,1.0,1.0,1.0,1.0,1.0,1.0,19.0,87.0,4.0,1.399999976158142,93.91799926757812,-42.70000076293945,4.960000038146973,5228.10009765625])|0.0         |no   |\n",
      "+---+-------+-------+-----------+-------+----+---------+-----+-----------+--------+--------+--------+-----------+------------+--------------+-------------+---------+-----------+-------------------------------------------------------------------------------------------------------------------------------------------------------------------------------------------------------+------------+-----+\n",
      "only showing top 5 rows\n",
      "\n",
      "The first 5 samples of the Test Dataset:\n",
      "+---+-------+-------+-----------+-------+----+--------+-----+-----------+--------+--------+--------+-----------+------------+--------------+-------------+---------+-----------+------------------------------------------------------------------------------------------------------------------------------------------------------------------------------------------------------------+------------+-----+\n",
      "|age|job    |marital|education  |housing|loan|contact |month|day_of_week|duration|campaign|previous|poutcome   |emp_var_rate|cons_price_idx|cons_conf_idx|euribor3m|nr_employed|features                                                                                                                                                                                                    |indexedLabel|label|\n",
      "+---+-------+-------+-----------+-------+----+--------+-----+-----------+--------+--------+--------+-----------+------------+--------------+-------------+---------+-----------+------------------------------------------------------------------------------------------------------------------------------------------------------------------------------------------------------------+------------+-----+\n",
      "|18 |student|single |basic.4y   |yes    |yes |cellular|apr  |thu        |184     |2       |0       |nonexistent|-1.8        |93.075        |-47.1        |1.365    |5099.1     |(48,[10,12,18,21,23,29,33,37,39,40,41,43,44,45,46,47],[1.0,1.0,1.0,1.0,1.0,1.0,1.0,1.0,18.0,184.0,2.0,-1.7999999523162842,93.07499694824219,-47.099998474121094,1.3650000095367432,5099.10009765625])       |0.0         |no   |\n",
      "|18 |student|single |high.school|yes    |yes |cellular|mar  |tue        |103     |1       |0       |nonexistent|-1.8        |92.843        |-50.0        |1.687    |5099.1     |(48,[10,12,15,21,23,32,36,37,39,40,41,43,44,45,46,47],[1.0,1.0,1.0,1.0,1.0,1.0,1.0,1.0,18.0,103.0,1.0,-1.7999999523162842,92.84300231933594,-50.0,1.687000036239624,5099.10009765625])                      |0.0         |no   |\n",
      "|19 |student|single |basic.9y   |no     |no  |cellular|apr  |thu        |165     |3       |0       |nonexistent|-1.8        |93.075        |-47.1        |1.41     |5099.1     |(48,[10,12,16,22,23,29,33,37,39,40,41,43,44,45,46,47],[1.0,1.0,1.0,1.0,1.0,1.0,1.0,1.0,19.0,165.0,3.0,-1.7999999523162842,93.07499694824219,-47.099998474121094,1.409999966621399,5099.10009765625])        |0.0         |no   |\n",
      "|19 |student|single |basic.9y   |no     |no  |cellular|apr  |tue        |43      |3       |0       |nonexistent|-1.8        |93.075        |-47.1        |1.453    |5099.1     |(48,[10,12,16,22,23,29,36,37,39,40,41,43,44,45,46,47],[1.0,1.0,1.0,1.0,1.0,1.0,1.0,1.0,19.0,43.0,3.0,-1.7999999523162842,93.07499694824219,-47.099998474121094,1.4529999494552612,5099.10009765625])        |0.0         |no   |\n",
      "|19 |student|single |basic.9y   |yes    |no  |cellular|apr  |tue        |299     |1       |0       |nonexistent|-1.8        |93.075        |-47.1        |1.453    |5099.1     |(48,[10,12,16,21,22,23,29,36,37,39,40,41,43,44,45,46,47],[1.0,1.0,1.0,1.0,1.0,1.0,1.0,1.0,1.0,19.0,299.0,1.0,-1.7999999523162842,93.07499694824219,-47.099998474121094,1.4529999494552612,5099.10009765625])|1.0         |yes  |\n",
      "+---+-------+-------+-----------+-------+----+--------+-----+-----------+--------+--------+--------+-----------+------------+--------------+-------------+---------+-----------+------------------------------------------------------------------------------------------------------------------------------------------------------------------------------------------------------------+------------+-----+\n",
      "only showing top 5 rows\n",
      "\n"
     ]
    }
   ],
   "source": [
    "# print sample of trainingData and testData\n",
    "\n",
    "print(\"The first 5 samples of the Training Dataset:\")\n",
    "trainingData.show(5, False)\n",
    "print(\"The first 5 samples of the Test Dataset:\")\n",
    "testData.show(5, False)"
   ]
  },
  {
   "cell_type": "markdown",
   "metadata": {},
   "source": [
    "# Fit and Evaluate Models"
   ]
  },
  {
   "cell_type": "markdown",
   "metadata": {},
   "source": [
    "### Logistic Regression"
   ]
  },
  {
   "cell_type": "code",
   "execution_count": 14,
   "metadata": {},
   "outputs": [],
   "source": [
    "# build logistic regression model\n",
    "lr = LogisticRegression(labelCol=\"indexedLabel\", featuresCol=\"features\")"
   ]
  },
  {
   "cell_type": "markdown",
   "metadata": {},
   "source": [
    "### Pipeline Architecture"
   ]
  },
  {
   "cell_type": "code",
   "execution_count": 15,
   "metadata": {},
   "outputs": [],
   "source": [
    "#build Pipeline architecture\n",
    "\n",
    "#convert indexed labels back to original labels\n",
    "labelConverter = IndexToString(inputCol=\"prediction\", outputCol=\"predictedLabel\", labels=labelindexer.labels) \n",
    "\n",
    "#chain indexers and tree in Pipeline\n",
    "pipeline = Pipeline(stages=[featureIndexer, lr, labelConverter])\n",
    "\n",
    "#train model\n",
    "lrModel = pipeline.fit(trainingData)"
   ]
  },
  {
   "cell_type": "markdown",
   "metadata": {},
   "source": [
    "### Predictions"
   ]
  },
  {
   "cell_type": "code",
   "execution_count": 16,
   "metadata": {},
   "outputs": [
    {
     "name": "stdout",
     "output_type": "stream",
     "text": [
      "+---+-------+-------+-----------+-------+----+--------+-----+-----------+--------+--------+--------+-----------+------------+--------------+-------------+---------+-----------+--------------------+------------+-----+--------------------+--------------------+--------------------+----------+--------------+\n",
      "|age|    job|marital|  education|housing|loan| contact|month|day_of_week|duration|campaign|previous|   poutcome|emp_var_rate|cons_price_idx|cons_conf_idx|euribor3m|nr_employed|            features|indexedLabel|label|     indexedFeatures|       rawPrediction|         probability|prediction|predictedLabel|\n",
      "+---+-------+-------+-----------+-------+----+--------+-----+-----------+--------+--------+--------+-----------+------------+--------------+-------------+---------+-----------+--------------------+------------+-----+--------------------+--------------------+--------------------+----------+--------------+\n",
      "| 18|student| single|   basic.4y|    yes| yes|cellular|  apr|        thu|     184|       2|       0|nonexistent|        -1.8|        93.075|        -47.1|    1.365|     5099.1|(48,[10,12,18,21,...|         0.0|   no|(48,[10,12,18,21,...|[2.17616995443539...|[0.89808906089028...|       0.0|            no|\n",
      "| 18|student| single|high.school|    yes| yes|cellular|  mar|        tue|     103|       1|       0|nonexistent|        -1.8|        92.843|        -50.0|    1.687|     5099.1|(48,[10,12,15,21,...|         0.0|   no|(48,[10,12,15,21,...|[1.11427238708110...|[0.75292475818045...|       0.0|            no|\n",
      "| 19|student| single|   basic.9y|     no|  no|cellular|  apr|        thu|     165|       3|       0|nonexistent|        -1.8|        93.075|        -47.1|     1.41|     5099.1|(48,[10,12,16,22,...|         0.0|   no|(48,[10,12,16,22,...|[2.30660595850943...|[0.90942266587252...|       0.0|            no|\n",
      "| 19|student| single|   basic.9y|     no|  no|cellular|  apr|        tue|      43|       3|       0|nonexistent|        -1.8|        93.075|        -47.1|    1.453|     5099.1|(48,[10,12,16,22,...|         0.0|   no|(48,[10,12,16,22,...|[2.80921804524057...|[0.94317192199486...|       0.0|            no|\n",
      "| 19|student| single|   basic.9y|    yes|  no|cellular|  apr|        tue|     299|       1|       0|nonexistent|        -1.8|        93.075|        -47.1|    1.453|     5099.1|(48,[10,12,16,21,...|         1.0|  yes|(48,[10,12,16,21,...|[1.46914577992490...|[0.81292751406678...|       0.0|            no|\n",
      "+---+-------+-------+-----------+-------+----+--------+-----+-----------+--------+--------+--------+-----------+------------+--------------+-------------+---------+-----------+--------------------+------------+-----+--------------------+--------------------+--------------------+----------+--------------+\n",
      "only showing top 5 rows\n",
      "\n"
     ]
    }
   ],
   "source": [
    "# Make predictions on the test data using the transform() method.\n",
    "predictions = lrModel.transform(testData)\n",
    "predictions.show(5)"
   ]
  },
  {
   "cell_type": "code",
   "execution_count": 17,
   "metadata": {},
   "outputs": [
    {
     "name": "stdout",
     "output_type": "stream",
     "text": [
      "+--------------------+-----+--------------------+--------------+\n",
      "|            features|label|         probability|predictedLabel|\n",
      "+--------------------+-----+--------------------+--------------+\n",
      "|(48,[10,12,18,21,...|   no|[0.89808906089028...|            no|\n",
      "|(48,[10,12,15,21,...|   no|[0.75292475818045...|            no|\n",
      "|(48,[10,12,16,22,...|   no|[0.90942266587252...|            no|\n",
      "|(48,[10,12,16,22,...|   no|[0.94317192199486...|            no|\n",
      "|(48,[10,12,16,21,...|  yes|[0.81292751406678...|            no|\n",
      "+--------------------+-----+--------------------+--------------+\n",
      "only showing top 5 rows\n",
      "\n"
     ]
    }
   ],
   "source": [
    "#select some columns from predictions dataframe\n",
    "predictions.select(\"features\", \"label\", \"probability\", \"predictedLabel\").show(5)"
   ]
  },
  {
   "cell_type": "code",
   "execution_count": 18,
   "metadata": {},
   "outputs": [],
   "source": [
    "# save bank_addtional_prediction to csv\n",
    "import pandas as pd\n",
    "bank_additional_prediction = predictions.select('age', 'job', 'marital', 'education', 'housing', 'loan', 'contact', 'month', 'day_of_week', 'duration', 'campaign', 'previous', 'poutcome', 'emp_var_rate', 'cons_price_idx', 'cons_conf_idx', 'euribor3m', 'nr_employed', 'features', 'label', 'probability', 'predictedLabel')\n",
    "bank_additional_prediction.toPandas().to_csv('bank_additional_prediction.csv', header = True)"
   ]
  },
  {
   "cell_type": "code",
   "execution_count": 19,
   "metadata": {},
   "outputs": [
    {
     "data": {
      "text/plain": [
       "LogisticRegressionModel: uid=LogisticRegression_4146bfaacc88, numClasses=2, numFeatures=48"
      ]
     },
     "execution_count": 19,
     "metadata": {},
     "output_type": "execute_result"
    }
   ],
   "source": [
    "# get the model from stages\n",
    "model = lrModel.stages[1]\n",
    "model"
   ]
  },
  {
   "cell_type": "code",
   "execution_count": 20,
   "metadata": {},
   "outputs": [
    {
     "data": {
      "text/plain": [
       "[('job_indexed_encoded_admin.', 0.08924866289698549),\n",
       " ('job_indexed_encoded_blue-collar', -0.24583594553044985),\n",
       " ('job_indexed_encoded_technician', -0.02380195005234879),\n",
       " ('job_indexed_encoded_services', -0.10140805567917176),\n",
       " ('job_indexed_encoded_management', -0.10213303493281291),\n",
       " ('job_indexed_encoded_retired', 0.24856611859861943),\n",
       " ('job_indexed_encoded_entrepreneur', -0.040485407906996715),\n",
       " ('job_indexed_encoded_self-employed', -0.13684451567532407),\n",
       " ('job_indexed_encoded_housemaid', 0.04176295724993643),\n",
       " ('job_indexed_encoded_unemployed', 0.03186790174864883),\n",
       " ('job_indexed_encoded_student', 0.12259598114110253),\n",
       " ('marital_indexed_encoded_married', -0.04413899022758612),\n",
       " ('marital_indexed_encoded_single', 0.04813474416240916),\n",
       " ('marital_indexed_encoded_divorced', -0.041962393822326964),\n",
       " ('education_indexed_encoded_university.degree', 0.10944950804034131),\n",
       " ('education_indexed_encoded_high.school', -0.05192568576235654),\n",
       " ('education_indexed_encoded_basic.9y', -0.11473454254644623),\n",
       " ('education_indexed_encoded_professional.course', 0.024936496805587183),\n",
       " ('education_indexed_encoded_basic.4y', -0.11743594510641045),\n",
       " ('education_indexed_encoded_basic.6y', 0.08017676022612538),\n",
       " ('education_indexed_encoded_unknown', 0.05793989513181962),\n",
       " ('housing_indexed_encoded_yes', 0.026606126847321554),\n",
       " ('loan_indexed_encoded_no', 0.044759164996080035),\n",
       " ('contact_indexed_encoded_cellular', 0.25264734314707366),\n",
       " ('month_indexed_encoded_may', -0.761460648399662),\n",
       " ('month_indexed_encoded_jul', 0.3520040900422016),\n",
       " ('month_indexed_encoded_aug', 0.3132826629273475),\n",
       " ('month_indexed_encoded_jun', 0.25358428494126084),\n",
       " ('month_indexed_encoded_nov', -0.1411558889374649),\n",
       " ('month_indexed_encoded_apr', -0.11375020667563943),\n",
       " ('month_indexed_encoded_oct', 0.2641719991872999),\n",
       " ('month_indexed_encoded_sep', -0.10584857560680024),\n",
       " ('month_indexed_encoded_mar', 1.307982536351538),\n",
       " ('day_of_week_indexed_encoded_thu', 0.0849854773914325),\n",
       " ('day_of_week_indexed_encoded_mon', -0.11796085136180737),\n",
       " ('day_of_week_indexed_encoded_wed', 0.18444416190543927),\n",
       " ('day_of_week_indexed_encoded_tue', 0.1614893102276699),\n",
       " ('poutcome_indexed_encoded_nonexistent', -1.250470505404096),\n",
       " ('poutcome_indexed_encoded_failure', -1.742415975400075),\n",
       " ('age', 0.00201392275706025),\n",
       " ('duration', 0.0046877911342840545),\n",
       " ('campaign', -0.05669580404581202),\n",
       " ('previous', 0.1082955161496138),\n",
       " ('emp_var_rate', -0.3240103296549973),\n",
       " ('cons_price_idx', 0.32456645251351346),\n",
       " ('cons_conf_idx', 0.017096392780411817),\n",
       " ('euribor3m', -0.16756753630727064),\n",
       " ('nr_employed', -0.005827926758288745)]"
      ]
     },
     "execution_count": 20,
     "metadata": {},
     "output_type": "execute_result"
    }
   ],
   "source": [
    "# get features names from encoded feature\n",
    "from itertools import chain\n",
    "\n",
    "attrs = sorted(\n",
    "    (attr[\"idx\"], attr[\"name\"]) for attr in (chain(*predictions\n",
    "        .schema[model.summary.featuresCol]\n",
    "        .metadata[\"ml_attr\"][\"attrs\"].values())))\n",
    "\n",
    "[(name, model.coefficients[idx]) for idx, name in attrs]"
   ]
  },
  {
   "cell_type": "markdown",
   "metadata": {},
   "source": [
    "### Compute the model accuracy"
   ]
  },
  {
   "cell_type": "code",
   "execution_count": 21,
   "metadata": {},
   "outputs": [
    {
     "name": "stdout",
     "output_type": "stream",
     "text": [
      "+-----+------------+\n",
      "|label|count(label)|\n",
      "+-----+------------+\n",
      "|   no|       11028|\n",
      "|  yes|        1380|\n",
      "+-----+------------+\n",
      "\n",
      "+--------------+---------------------+\n",
      "|predictedLabel|count(predictedLabel)|\n",
      "+--------------+---------------------+\n",
      "|            no|                11582|\n",
      "|           yes|                  826|\n",
      "+--------------+---------------------+\n",
      "\n"
     ]
    }
   ],
   "source": [
    "cm = predictions.select(\"label\", \"predictedLabel\")          \n",
    "cm.groupby('label').agg({'label': 'count'}).show()  \n",
    "cm.groupby('predictedLabel').agg({'predictedLabel': 'count'}).show()"
   ]
  },
  {
   "cell_type": "code",
   "execution_count": 22,
   "metadata": {},
   "outputs": [
    {
     "name": "stdout",
     "output_type": "stream",
     "text": [
      "+-----+--------------+-----+\n",
      "|label|predictedLabel|count|\n",
      "+-----+--------------+-----+\n",
      "|   no|            no|10753|\n",
      "|   no|           yes|  275|\n",
      "|  yes|           yes|  551|\n",
      "|  yes|            no|  829|\n",
      "+-----+--------------+-----+\n",
      "\n"
     ]
    }
   ],
   "source": [
    "#group predictions by label and predictedLabel\n",
    "predictions.groupBy('label', 'predictedLabel').count().show()"
   ]
  },
  {
   "cell_type": "code",
   "execution_count": 23,
   "metadata": {},
   "outputs": [
    {
     "name": "stdout",
     "output_type": "stream",
     "text": [
      "The Accuracy for test set is 0.9110251450676983\n"
     ]
    }
   ],
   "source": [
    "print(\"The Accuracy for test set is {}\".format(cm.filter(cm.label == cm.predictedLabel).count()/cm.count()))"
   ]
  },
  {
   "cell_type": "code",
   "execution_count": 24,
   "metadata": {},
   "outputs": [
    {
     "name": "stdout",
     "output_type": "stream",
     "text": [
      "The Accuracy for test set is 0.9110251450676983\n"
     ]
    }
   ],
   "source": [
    "evaluator = MulticlassClassificationEvaluator(labelCol=\"indexedLabel\", predictionCol=\"prediction\", metricName=\"accuracy\")\n",
    "print(\"The Accuracy for test set is {}\".format(evaluator.evaluate(predictions)))"
   ]
  },
  {
   "cell_type": "code",
   "execution_count": null,
   "metadata": {},
   "outputs": [],
   "source": []
  }
 ],
 "metadata": {
  "kernelspec": {
   "display_name": "Python 3",
   "language": "python",
   "name": "python3"
  },
  "language_info": {
   "codemirror_mode": {
    "name": "ipython",
    "version": 3
   },
   "file_extension": ".py",
   "mimetype": "text/x-python",
   "name": "python",
   "nbconvert_exporter": "python",
   "pygments_lexer": "ipython3",
   "version": "3.6.5"
  }
 },
 "nbformat": 4,
 "nbformat_minor": 2
}
